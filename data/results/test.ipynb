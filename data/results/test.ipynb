{
 "cells": [
  {
   "cell_type": "code",
   "execution_count": 6,
   "metadata": {},
   "outputs": [
    {
     "name": "stdout",
     "output_type": "stream",
     "text": [
      "<bound method DataFrame.count of        Unnamed: 0     trans_date  account_id  trans_type   amount  \\\n",
      "1279        42190  1536796800000         319  WITHDRAWAL  57700.0   \n",
      "1280        42191  1536883200000         319  WITHDRAWAL   2196.0   \n",
      "5680       151804  1499904000000        1139  WITHDRAWAL  16400.0   \n",
      "9248       288156  1375488000000        2176  WITHDRAWAL  10300.0   \n",
      "9249       288157  1375488000000        2176  WITHDRAWAL  28400.0   \n",
      "9250       288158  1375660800000        2176  WITHDRAWAL   1085.0   \n",
      "9251       288159  1375660800000        2176  WITHDRAWAL  36300.0   \n",
      "9840       292039  1483660800000        2209  WITHDRAWAL   5887.0   \n",
      "9872       292071  1496361600000        2209  WITHDRAWAL  35000.0   \n",
      "10356      293309  1484784000000        2219  WITHDRAWAL  27300.0   \n",
      "10357      293310  1484870400000        2219  WITHDRAWAL   1500.0   \n",
      "10358      293311  1484956800000        2219  WITHDRAWAL   2700.0   \n",
      "11877      318606  1483315200000        2424  WITHDRAWAL   4800.0   \n",
      "12504      327279  1527984000000        2486  WITHDRAWAL  22800.0   \n",
      "12906      333545  1430352000000        2527  WITHDRAWAL  42600.0   \n",
      "17027      448138  1475193600000        3402  WITHDRAWAL  62300.0   \n",
      "19327      508445  1452211200000        3869  WITHDRAWAL  50700.0   \n",
      "19733      529580  1413590400000        4131  WITHDRAWAL  32500.0   \n",
      "19768      529615  1429142400000        4131  WITHDRAWAL  34300.0   \n",
      "20922      535338  1530316800000        4321  WITHDRAWAL     14.6   \n",
      "23030      553304  1492646400000        5129  WITHDRAWAL  40500.0   \n",
      "23070      553344  1517270400000        5129  WITHDRAWAL  62800.0   \n",
      "23071      553345  1517356800000        5129  WITHDRAWAL     14.6   \n",
      "26368      573182  1380585600000        6555  WITHDRAWAL  29800.0   \n",
      "27746      584187  1506729600000        7606  WITHDRAWAL  11100.0   \n",
      "28528      586754  1431302400000        7815  WITHDRAWAL   1475.0   \n",
      "28529      586755  1431302400000        7815  WITHDRAWAL   2197.0   \n",
      "28905      589667  1489708800000        7957  WITHDRAWAL  26500.0   \n",
      "30541      595221  1513296000000        8316  WITHDRAWAL  12100.0   \n",
      "31945      601516  1542067200000        8899  WITHDRAWAL  17700.0   \n",
      "34666      615922  1420848000000        9883  WITHDRAWAL    713.0   \n",
      "34667      615923  1420848000000        9883  WITHDRAWAL   5700.0   \n",
      "34956      617875  1401494400000       10079  WITHDRAWAL  26200.0   \n",
      "35278      618538  1460505600000       10105  WITHDRAWAL  34100.0   \n",
      "36659      626701  1544140800000       10789  WITHDRAWAL  16200.0   \n",
      "36941      628920  1388793600000       10973  WITHDRAWAL  28800.0   \n",
      "37162      629141  1534896000000       10973  WITHDRAWAL  36700.0   \n",
      "\n",
      "       total_withdrawals_5d  num_withdrawals_5d  y_pred  y_scores  \n",
      "1279               129022.5                   5       1  0.040473  \n",
      "1280               131218.5                   6       1  0.048710  \n",
      "5680                80601.0                   5       1  0.002491  \n",
      "9248               113400.0                   4       1  0.005207  \n",
      "9249               141800.0                   5       1  0.040473  \n",
      "9250               142885.0                   6       1  0.048710  \n",
      "9251               179185.0                   7       1  0.048710  \n",
      "9840                95887.0                   5       1  0.022643  \n",
      "9872               121414.6                   4       1  0.009399  \n",
      "10356               88200.0                   5       1  0.012975  \n",
      "10357               84900.0                   5       1  0.010867  \n",
      "10358               87600.0                   6       1  0.020932  \n",
      "11877               96614.6                   5       1  0.022643  \n",
      "12504               96314.6                   5       1  0.022643  \n",
      "12906              119014.6                   4       1  0.007300  \n",
      "17027              151630.0                   4       1  0.009399  \n",
      "19327              105460.0                   7       1  0.039381  \n",
      "19733              150300.0                   4       1  0.009399  \n",
      "19768              116274.0                   4       1  0.007300  \n",
      "20922              128214.6                   4       1  0.009399  \n",
      "23030              112900.0                   4       1  0.005207  \n",
      "23070              138800.0                   4       1  0.009399  \n",
      "23071              138814.6                   5       1  0.040473  \n",
      "26368               84130.0                   5       1  0.011393  \n",
      "27746              112614.6                   4       1  0.005207  \n",
      "28528              122575.0                   4       1  0.009399  \n",
      "28529              124772.0                   5       1  0.040473  \n",
      "28905               83300.0                   5       1  0.008764  \n",
      "30541               89100.0                   5       1  0.014031  \n",
      "31945               87801.8                   5       1  0.012975  \n",
      "34666               90413.0                   5       1  0.014560  \n",
      "34667               96113.0                   6       1  0.030698  \n",
      "34956              117114.6                   5       1  0.039927  \n",
      "35278              104279.0                   5       1  0.031238  \n",
      "36659               84103.0                   6       1  0.019334  \n",
      "36941               84730.0                   6       1  0.018802  \n",
      "37162              152600.0                   4       1  0.009399  >\n"
     ]
    }
   ],
   "source": [
    "import pandas as pd\n",
    "\n",
    "# Read the CSV file\n",
    "df = pd.read_csv(\"anomaly_detection_cluster_0_withdrawals.csv\")\n",
    "\n",
    "# Filter rows where 'y_pred' column equals 1\n",
    "filtered_df = df[df['y_pred'] == 1]\n",
    "\n",
    "# Display the filtered DataFrame\n",
    "print(filtered_df.count)\n"
   ]
  },
  {
   "cell_type": "code",
   "execution_count": 5,
   "metadata": {},
   "outputs": [
    {
     "name": "stdout",
     "output_type": "stream",
     "text": [
      "Count of unique values in 'other_account': 7665\n"
     ]
    },
    {
     "name": "stderr",
     "output_type": "stream",
     "text": [
      "C:\\Users\\YWK\\AppData\\Local\\Temp\\ipykernel_28300\\1997295364.py:7: DtypeWarning: Columns (8) have mixed types. Specify dtype option on import or set low_memory=False.\n",
      "  df = pd.read_csv(csv_file_path)\n"
     ]
    }
   ],
   "source": [
    "import pandas as pd\n",
    "\n",
    "# Assuming the dataset is in the same directory as this script\n",
    "csv_file_path = \"fin_trans.csv\"\n",
    "\n",
    "# Load the dataset into a DataFrame\n",
    "df = pd.read_csv(csv_file_path)\n",
    "\n",
    "# Count the number of unique values in the 'other_account' column\n",
    "unique_other_accounts_count = df['other_account_id'].nunique()\n",
    "\n",
    "# Print the count of unique values\n",
    "print(\"Count of unique values in 'other_account':\", unique_other_accounts_count)\n"
   ]
  },
  {
   "cell_type": "code",
   "execution_count": 6,
   "metadata": {},
   "outputs": [
    {
     "name": "stderr",
     "output_type": "stream",
     "text": [
      "C:\\Users\\YWK\\AppData\\Local\\Temp\\ipykernel_28300\\173895759.py:4: DtypeWarning: Columns (8) have mixed types. Specify dtype option on import or set low_memory=False.\n",
      "  df = pd.read_csv(\"fin_trans.csv\")\n"
     ]
    }
   ],
   "source": [
    "import pandas as pd\n",
    "\n",
    "# Read the CSV file into a DataFrame\n",
    "df = pd.read_csv(\"fin_trans.csv\")\n",
    "\n",
    "# Filter out rows with negative values in the 'amount' column\n",
    "df = df[df['amount'] >= 0]\n",
    "\n",
    "# Write the filtered DataFrame to a new CSV file\n",
    "df.to_csv(\"fin_trans_updated.csv\", index=False)"
   ]
  },
  {
   "cell_type": "code",
   "execution_count": null,
   "metadata": {},
   "outputs": [],
   "source": []
  }
 ],
 "metadata": {
  "kernelspec": {
   "display_name": "Python 3",
   "language": "python",
   "name": "python3"
  },
  "language_info": {
   "codemirror_mode": {
    "name": "ipython",
    "version": 3
   },
   "file_extension": ".py",
   "mimetype": "text/x-python",
   "name": "python",
   "nbconvert_exporter": "python",
   "pygments_lexer": "ipython3",
   "version": "3.11.5"
  }
 },
 "nbformat": 4,
 "nbformat_minor": 2
}
